{
 "cells": [
  {
   "cell_type": "markdown",
   "id": "df7bd16a",
   "metadata": {},
   "source": [
    "# Houisng Dataset Analyis"
   ]
  },
  {
   "cell_type": "markdown",
   "id": "37e2a72f",
   "metadata": {},
   "source": [
    "### LOAD DATA"
   ]
  },
  {
   "cell_type": "code",
   "execution_count": 1,
   "id": "ca25b44a",
   "metadata": {},
   "outputs": [],
   "source": [
    "import numpy as np\n",
    "import pandas as pd"
   ]
  },
  {
   "cell_type": "code",
   "execution_count": 2,
   "id": "679749cf",
   "metadata": {},
   "outputs": [],
   "source": [
    "data=pd.read_csv(\"C:\\\\Users\\\\TOFFICK\\\\Documents\\\\GitHub\\\\Housing_data_analysis\\\\Housing_dataset_cleaned.csv\")"
   ]
  },
  {
   "cell_type": "markdown",
   "id": "a0fe6b9c",
   "metadata": {},
   "source": [
    "### BASIC INVESTIGATION"
   ]
  },
  {
   "cell_type": "code",
   "execution_count": 3,
   "id": "71705fba",
   "metadata": {},
   "outputs": [
    {
     "data": {
      "text/html": [
       "<div>\n",
       "<style scoped>\n",
       "    .dataframe tbody tr th:only-of-type {\n",
       "        vertical-align: middle;\n",
       "    }\n",
       "\n",
       "    .dataframe tbody tr th {\n",
       "        vertical-align: top;\n",
       "    }\n",
       "\n",
       "    .dataframe thead th {\n",
       "        text-align: right;\n",
       "    }\n",
       "</style>\n",
       "<table border=\"1\" class=\"dataframe\">\n",
       "  <thead>\n",
       "    <tr style=\"text-align: right;\">\n",
       "      <th></th>\n",
       "      <th>area_type</th>\n",
       "      <th>availability</th>\n",
       "      <th>location</th>\n",
       "      <th>bhk</th>\n",
       "      <th>size_comp</th>\n",
       "      <th>total_sqft</th>\n",
       "      <th>bath</th>\n",
       "      <th>balcony</th>\n",
       "      <th>price</th>\n",
       "    </tr>\n",
       "  </thead>\n",
       "  <tbody>\n",
       "    <tr>\n",
       "      <th>0</th>\n",
       "      <td>Super built-up  Area</td>\n",
       "      <td>Date Set</td>\n",
       "      <td>Electronic City Phase II</td>\n",
       "      <td>2</td>\n",
       "      <td>BHK</td>\n",
       "      <td>1056.0</td>\n",
       "      <td>2</td>\n",
       "      <td>1</td>\n",
       "      <td>39.07</td>\n",
       "    </tr>\n",
       "    <tr>\n",
       "      <th>1</th>\n",
       "      <td>Plot  Area</td>\n",
       "      <td>Ready To Move</td>\n",
       "      <td>Chikka Tirupathi</td>\n",
       "      <td>4</td>\n",
       "      <td>Bedroom</td>\n",
       "      <td>2600.0</td>\n",
       "      <td>5</td>\n",
       "      <td>3</td>\n",
       "      <td>120.00</td>\n",
       "    </tr>\n",
       "    <tr>\n",
       "      <th>2</th>\n",
       "      <td>Built-up  Area</td>\n",
       "      <td>Ready To Move</td>\n",
       "      <td>Uttarahalli</td>\n",
       "      <td>3</td>\n",
       "      <td>BHK</td>\n",
       "      <td>1440.0</td>\n",
       "      <td>2</td>\n",
       "      <td>3</td>\n",
       "      <td>62.00</td>\n",
       "    </tr>\n",
       "    <tr>\n",
       "      <th>3</th>\n",
       "      <td>Super built-up  Area</td>\n",
       "      <td>Ready To Move</td>\n",
       "      <td>Lingadheeranahalli</td>\n",
       "      <td>3</td>\n",
       "      <td>BHK</td>\n",
       "      <td>1521.0</td>\n",
       "      <td>3</td>\n",
       "      <td>1</td>\n",
       "      <td>95.00</td>\n",
       "    </tr>\n",
       "    <tr>\n",
       "      <th>4</th>\n",
       "      <td>Super built-up  Area</td>\n",
       "      <td>Ready To Move</td>\n",
       "      <td>Kothanur</td>\n",
       "      <td>2</td>\n",
       "      <td>BHK</td>\n",
       "      <td>1200.0</td>\n",
       "      <td>2</td>\n",
       "      <td>1</td>\n",
       "      <td>51.00</td>\n",
       "    </tr>\n",
       "  </tbody>\n",
       "</table>\n",
       "</div>"
      ],
      "text/plain": [
       "              area_type   availability                  location  bhk  \\\n",
       "0  Super built-up  Area       Date Set  Electronic City Phase II    2   \n",
       "1            Plot  Area  Ready To Move          Chikka Tirupathi    4   \n",
       "2        Built-up  Area  Ready To Move               Uttarahalli    3   \n",
       "3  Super built-up  Area  Ready To Move        Lingadheeranahalli    3   \n",
       "4  Super built-up  Area  Ready To Move                  Kothanur    2   \n",
       "\n",
       "  size_comp  total_sqft  bath  balcony   price  \n",
       "0       BHK      1056.0     2        1   39.07  \n",
       "1   Bedroom      2600.0     5        3  120.00  \n",
       "2       BHK      1440.0     2        3   62.00  \n",
       "3       BHK      1521.0     3        1   95.00  \n",
       "4       BHK      1200.0     2        1   51.00  "
      ]
     },
     "execution_count": 3,
     "metadata": {},
     "output_type": "execute_result"
    }
   ],
   "source": [
    "data.head()"
   ]
  },
  {
   "cell_type": "code",
   "execution_count": 4,
   "id": "0b9f3827",
   "metadata": {},
   "outputs": [
    {
     "data": {
      "text/html": [
       "<div>\n",
       "<style scoped>\n",
       "    .dataframe tbody tr th:only-of-type {\n",
       "        vertical-align: middle;\n",
       "    }\n",
       "\n",
       "    .dataframe tbody tr th {\n",
       "        vertical-align: top;\n",
       "    }\n",
       "\n",
       "    .dataframe thead th {\n",
       "        text-align: right;\n",
       "    }\n",
       "</style>\n",
       "<table border=\"1\" class=\"dataframe\">\n",
       "  <thead>\n",
       "    <tr style=\"text-align: right;\">\n",
       "      <th></th>\n",
       "      <th>area_type</th>\n",
       "      <th>availability</th>\n",
       "      <th>location</th>\n",
       "      <th>bhk</th>\n",
       "      <th>size_comp</th>\n",
       "      <th>total_sqft</th>\n",
       "      <th>bath</th>\n",
       "      <th>balcony</th>\n",
       "      <th>price</th>\n",
       "    </tr>\n",
       "  </thead>\n",
       "  <tbody>\n",
       "    <tr>\n",
       "      <th>13315</th>\n",
       "      <td>Built-up  Area</td>\n",
       "      <td>Ready To Move</td>\n",
       "      <td>Whitefield</td>\n",
       "      <td>5</td>\n",
       "      <td>Bedroom</td>\n",
       "      <td>3453.0</td>\n",
       "      <td>4</td>\n",
       "      <td>0</td>\n",
       "      <td>231.0</td>\n",
       "    </tr>\n",
       "    <tr>\n",
       "      <th>13316</th>\n",
       "      <td>Super built-up  Area</td>\n",
       "      <td>Ready To Move</td>\n",
       "      <td>Richards Town</td>\n",
       "      <td>4</td>\n",
       "      <td>BHK</td>\n",
       "      <td>3600.0</td>\n",
       "      <td>5</td>\n",
       "      <td>2</td>\n",
       "      <td>400.0</td>\n",
       "    </tr>\n",
       "    <tr>\n",
       "      <th>13317</th>\n",
       "      <td>Built-up  Area</td>\n",
       "      <td>Ready To Move</td>\n",
       "      <td>Raja Rajeshwari Nagar</td>\n",
       "      <td>2</td>\n",
       "      <td>BHK</td>\n",
       "      <td>1141.0</td>\n",
       "      <td>2</td>\n",
       "      <td>1</td>\n",
       "      <td>60.0</td>\n",
       "    </tr>\n",
       "    <tr>\n",
       "      <th>13318</th>\n",
       "      <td>Super built-up  Area</td>\n",
       "      <td>Date Set</td>\n",
       "      <td>Padmanabhanagar</td>\n",
       "      <td>4</td>\n",
       "      <td>BHK</td>\n",
       "      <td>4689.0</td>\n",
       "      <td>4</td>\n",
       "      <td>1</td>\n",
       "      <td>488.0</td>\n",
       "    </tr>\n",
       "    <tr>\n",
       "      <th>13319</th>\n",
       "      <td>Super built-up  Area</td>\n",
       "      <td>Ready To Move</td>\n",
       "      <td>Doddathoguru</td>\n",
       "      <td>1</td>\n",
       "      <td>BHK</td>\n",
       "      <td>550.0</td>\n",
       "      <td>1</td>\n",
       "      <td>1</td>\n",
       "      <td>17.0</td>\n",
       "    </tr>\n",
       "  </tbody>\n",
       "</table>\n",
       "</div>"
      ],
      "text/plain": [
       "                  area_type   availability               location  bhk  \\\n",
       "13315        Built-up  Area  Ready To Move             Whitefield    5   \n",
       "13316  Super built-up  Area  Ready To Move          Richards Town    4   \n",
       "13317        Built-up  Area  Ready To Move  Raja Rajeshwari Nagar    2   \n",
       "13318  Super built-up  Area       Date Set        Padmanabhanagar    4   \n",
       "13319  Super built-up  Area  Ready To Move           Doddathoguru    1   \n",
       "\n",
       "      size_comp  total_sqft  bath  balcony  price  \n",
       "13315   Bedroom      3453.0     4        0  231.0  \n",
       "13316       BHK      3600.0     5        2  400.0  \n",
       "13317       BHK      1141.0     2        1   60.0  \n",
       "13318       BHK      4689.0     4        1  488.0  \n",
       "13319       BHK       550.0     1        1   17.0  "
      ]
     },
     "execution_count": 4,
     "metadata": {},
     "output_type": "execute_result"
    }
   ],
   "source": [
    "data.tail()"
   ]
  },
  {
   "cell_type": "code",
   "execution_count": 5,
   "id": "22e56138",
   "metadata": {},
   "outputs": [
    {
     "name": "stdout",
     "output_type": "stream",
     "text": [
      "<class 'pandas.core.frame.DataFrame'>\n",
      "RangeIndex: 13320 entries, 0 to 13319\n",
      "Data columns (total 9 columns):\n",
      " #   Column        Non-Null Count  Dtype  \n",
      "---  ------        --------------  -----  \n",
      " 0   area_type     13320 non-null  object \n",
      " 1   availability  13320 non-null  object \n",
      " 2   location      13320 non-null  object \n",
      " 3   bhk           13320 non-null  int64  \n",
      " 4   size_comp     13320 non-null  object \n",
      " 5   total_sqft    13320 non-null  float64\n",
      " 6   bath          13320 non-null  int64  \n",
      " 7   balcony       13320 non-null  int64  \n",
      " 8   price         13320 non-null  float64\n",
      "dtypes: float64(2), int64(3), object(4)\n",
      "memory usage: 936.7+ KB\n"
     ]
    }
   ],
   "source": [
    "data.info()"
   ]
  },
  {
   "cell_type": "code",
   "execution_count": 6,
   "id": "490e1533",
   "metadata": {},
   "outputs": [
    {
     "data": {
      "text/plain": [
       "(13320, 9)"
      ]
     },
     "execution_count": 6,
     "metadata": {},
     "output_type": "execute_result"
    }
   ],
   "source": [
    "data.shape"
   ]
  },
  {
   "cell_type": "code",
   "execution_count": 7,
   "id": "49f4eb9c",
   "metadata": {},
   "outputs": [
    {
     "data": {
      "text/plain": [
       "area_type       0\n",
       "availability    0\n",
       "location        0\n",
       "bhk             0\n",
       "size_comp       0\n",
       "total_sqft      0\n",
       "bath            0\n",
       "balcony         0\n",
       "price           0\n",
       "dtype: int64"
      ]
     },
     "execution_count": 7,
     "metadata": {},
     "output_type": "execute_result"
    }
   ],
   "source": [
    "data.isnull().sum()"
   ]
  },
  {
   "cell_type": "markdown",
   "id": "c4b2be53",
   "metadata": {},
   "source": [
    "##### FINDING THE UNIQUE VALUE COUNTS IN THE COLUMNS"
   ]
  },
  {
   "cell_type": "code",
   "execution_count": 8,
   "id": "d92d6e99",
   "metadata": {},
   "outputs": [
    {
     "data": {
      "text/plain": [
       "Super built-up  Area    8790\n",
       "Built-up  Area          2418\n",
       "Plot  Area              2025\n",
       "Carpet  Area              87\n",
       "Name: area_type, dtype: int64"
      ]
     },
     "execution_count": 8,
     "metadata": {},
     "output_type": "execute_result"
    }
   ],
   "source": [
    "data.area_type.value_counts()\n",
    "\n",
    "#for column in data.columns:\n",
    "  #print(data[column].value_counts())"
   ]
  },
  {
   "cell_type": "code",
   "execution_count": 9,
   "id": "6fa05301",
   "metadata": {},
   "outputs": [
    {
     "data": {
      "text/plain": [
       "Ready To Move           10581\n",
       "Date Set                 2723\n",
       "Immediate Possession       16\n",
       "Name: availability, dtype: int64"
      ]
     },
     "execution_count": 9,
     "metadata": {},
     "output_type": "execute_result"
    }
   ],
   "source": [
    "data.availability.value_counts()"
   ]
  },
  {
   "cell_type": "code",
   "execution_count": 10,
   "id": "ef4adc08",
   "metadata": {},
   "outputs": [
    {
     "data": {
      "text/plain": [
       "2     5544\n",
       "3     4857\n",
       "4     1417\n",
       "1      656\n",
       "5      356\n",
       "6      221\n",
       "7      100\n",
       "8       89\n",
       "9       54\n",
       "10      14\n",
       "11       4\n",
       "16       1\n",
       "27       1\n",
       "43       1\n",
       "18       1\n",
       "12       1\n",
       "13       1\n",
       "14       1\n",
       "19       1\n",
       "Name: bhk, dtype: int64"
      ]
     },
     "execution_count": 10,
     "metadata": {},
     "output_type": "execute_result"
    }
   ],
   "source": [
    "data.bhk.value_counts()"
   ]
  },
  {
   "cell_type": "code",
   "execution_count": 11,
   "id": "efb086f4",
   "metadata": {},
   "outputs": [
    {
     "data": {
      "text/plain": [
       "1200.00    843\n",
       "1100.00    221\n",
       "1500.00    206\n",
       "2400.00    197\n",
       "600.00     180\n",
       "          ... \n",
       "7502.45      1\n",
       "2108.00      1\n",
       "5656.00      1\n",
       "1471.00      1\n",
       "499.00       1\n",
       "Name: total_sqft, Length: 2033, dtype: int64"
      ]
     },
     "execution_count": 11,
     "metadata": {},
     "output_type": "execute_result"
    }
   ],
   "source": [
    "data.total_sqft.value_counts()"
   ]
  },
  {
   "cell_type": "code",
   "execution_count": 12,
   "id": "3b72f0f4",
   "metadata": {},
   "outputs": [
    {
     "data": {
      "text/plain": [
       "2     6981\n",
       "3     3286\n",
       "4     1226\n",
       "1      788\n",
       "5      524\n",
       "6      273\n",
       "7      102\n",
       "8       64\n",
       "9       43\n",
       "10      13\n",
       "12       7\n",
       "13       3\n",
       "11       3\n",
       "16       2\n",
       "27       1\n",
       "18       1\n",
       "14       1\n",
       "40       1\n",
       "15       1\n",
       "Name: bath, dtype: int64"
      ]
     },
     "execution_count": 12,
     "metadata": {},
     "output_type": "execute_result"
    }
   ],
   "source": [
    "data.bath.value_counts()"
   ]
  },
  {
   "cell_type": "code",
   "execution_count": 13,
   "id": "9b38e599",
   "metadata": {},
   "outputs": [
    {
     "data": {
      "text/plain": [
       "2    5722\n",
       "1    4897\n",
       "3    1672\n",
       "0    1029\n",
       "Name: balcony, dtype: int64"
      ]
     },
     "execution_count": 13,
     "metadata": {},
     "output_type": "execute_result"
    }
   ],
   "source": [
    "data.balcony.value_counts()"
   ]
  },
  {
   "cell_type": "code",
   "execution_count": 14,
   "id": "e5d4ba35",
   "metadata": {},
   "outputs": [
    {
     "data": {
      "text/plain": [
       "75.00     310\n",
       "65.00     302\n",
       "55.00     275\n",
       "60.00     270\n",
       "45.00     240\n",
       "         ... \n",
       "8.00        1\n",
       "36.38       1\n",
       "35.29       1\n",
       "296.00      1\n",
       "62.28       1\n",
       "Name: price, Length: 1980, dtype: int64"
      ]
     },
     "execution_count": 14,
     "metadata": {},
     "output_type": "execute_result"
    }
   ],
   "source": [
    "data.price.value_counts()"
   ]
  },
  {
   "cell_type": "code",
   "execution_count": 15,
   "id": "a500395f",
   "metadata": {},
   "outputs": [
    {
     "data": {
      "text/plain": [
       "Whitefield                 541\n",
       "Sarjapur  Road             399\n",
       "Electronic City            302\n",
       "Kanakpura Road             273\n",
       "Thanisandra                234\n",
       "                          ... \n",
       "Sector 3 HSR Layout          1\n",
       "Sundar Ram Shetty Nagar      1\n",
       "Chokkahalli                  1\n",
       "Tharabanahalli               1\n",
       "Gulakamale                   1\n",
       "Name: location, Length: 1305, dtype: int64"
      ]
     },
     "execution_count": 15,
     "metadata": {},
     "output_type": "execute_result"
    }
   ],
   "source": [
    "data.location.value_counts()"
   ]
  },
  {
   "cell_type": "markdown",
   "id": "d12dee63",
   "metadata": {},
   "source": [
    "### DROPPING UNWANTED COLUMNS "
   ]
  },
  {
   "cell_type": "code",
   "execution_count": 16,
   "id": "5b51b3ff",
   "metadata": {},
   "outputs": [],
   "source": [
    "## dROPPING COLUMNS \n",
    "df1=data.drop(['area_type', 'availability','size_comp'], axis = 1)"
   ]
  },
  {
   "cell_type": "code",
   "execution_count": 17,
   "id": "e5eefaef",
   "metadata": {},
   "outputs": [
    {
     "data": {
      "text/html": [
       "<div>\n",
       "<style scoped>\n",
       "    .dataframe tbody tr th:only-of-type {\n",
       "        vertical-align: middle;\n",
       "    }\n",
       "\n",
       "    .dataframe tbody tr th {\n",
       "        vertical-align: top;\n",
       "    }\n",
       "\n",
       "    .dataframe thead th {\n",
       "        text-align: right;\n",
       "    }\n",
       "</style>\n",
       "<table border=\"1\" class=\"dataframe\">\n",
       "  <thead>\n",
       "    <tr style=\"text-align: right;\">\n",
       "      <th></th>\n",
       "      <th>location</th>\n",
       "      <th>bhk</th>\n",
       "      <th>total_sqft</th>\n",
       "      <th>bath</th>\n",
       "      <th>balcony</th>\n",
       "      <th>price</th>\n",
       "    </tr>\n",
       "  </thead>\n",
       "  <tbody>\n",
       "    <tr>\n",
       "      <th>0</th>\n",
       "      <td>Electronic City Phase II</td>\n",
       "      <td>2</td>\n",
       "      <td>1056.0</td>\n",
       "      <td>2</td>\n",
       "      <td>1</td>\n",
       "      <td>39.07</td>\n",
       "    </tr>\n",
       "    <tr>\n",
       "      <th>1</th>\n",
       "      <td>Chikka Tirupathi</td>\n",
       "      <td>4</td>\n",
       "      <td>2600.0</td>\n",
       "      <td>5</td>\n",
       "      <td>3</td>\n",
       "      <td>120.00</td>\n",
       "    </tr>\n",
       "    <tr>\n",
       "      <th>2</th>\n",
       "      <td>Uttarahalli</td>\n",
       "      <td>3</td>\n",
       "      <td>1440.0</td>\n",
       "      <td>2</td>\n",
       "      <td>3</td>\n",
       "      <td>62.00</td>\n",
       "    </tr>\n",
       "    <tr>\n",
       "      <th>3</th>\n",
       "      <td>Lingadheeranahalli</td>\n",
       "      <td>3</td>\n",
       "      <td>1521.0</td>\n",
       "      <td>3</td>\n",
       "      <td>1</td>\n",
       "      <td>95.00</td>\n",
       "    </tr>\n",
       "    <tr>\n",
       "      <th>4</th>\n",
       "      <td>Kothanur</td>\n",
       "      <td>2</td>\n",
       "      <td>1200.0</td>\n",
       "      <td>2</td>\n",
       "      <td>1</td>\n",
       "      <td>51.00</td>\n",
       "    </tr>\n",
       "  </tbody>\n",
       "</table>\n",
       "</div>"
      ],
      "text/plain": [
       "                   location  bhk  total_sqft  bath  balcony   price\n",
       "0  Electronic City Phase II    2      1056.0     2        1   39.07\n",
       "1          Chikka Tirupathi    4      2600.0     5        3  120.00\n",
       "2               Uttarahalli    3      1440.0     2        3   62.00\n",
       "3        Lingadheeranahalli    3      1521.0     3        1   95.00\n",
       "4                  Kothanur    2      1200.0     2        1   51.00"
      ]
     },
     "execution_count": 17,
     "metadata": {},
     "output_type": "execute_result"
    }
   ],
   "source": [
    "## rechecking the head\n",
    "df1.head()"
   ]
  },
  {
   "cell_type": "markdown",
   "id": "491727e5",
   "metadata": {},
   "source": [
    "### CHECKING FOR CORRELATION "
   ]
  },
  {
   "cell_type": "code",
   "execution_count": 18,
   "id": "b757fb25",
   "metadata": {},
   "outputs": [
    {
     "data": {
      "text/html": [
       "<div>\n",
       "<style scoped>\n",
       "    .dataframe tbody tr th:only-of-type {\n",
       "        vertical-align: middle;\n",
       "    }\n",
       "\n",
       "    .dataframe tbody tr th {\n",
       "        vertical-align: top;\n",
       "    }\n",
       "\n",
       "    .dataframe thead th {\n",
       "        text-align: right;\n",
       "    }\n",
       "</style>\n",
       "<table border=\"1\" class=\"dataframe\">\n",
       "  <thead>\n",
       "    <tr style=\"text-align: right;\">\n",
       "      <th></th>\n",
       "      <th>bhk</th>\n",
       "      <th>total_sqft</th>\n",
       "      <th>bath</th>\n",
       "      <th>balcony</th>\n",
       "      <th>price</th>\n",
       "    </tr>\n",
       "  </thead>\n",
       "  <tbody>\n",
       "    <tr>\n",
       "      <th>bhk</th>\n",
       "      <td>1.000000</td>\n",
       "      <td>0.067587</td>\n",
       "      <td>0.895786</td>\n",
       "      <td>0.194358</td>\n",
       "      <td>0.398073</td>\n",
       "    </tr>\n",
       "    <tr>\n",
       "      <th>total_sqft</th>\n",
       "      <td>0.067587</td>\n",
       "      <td>1.000000</td>\n",
       "      <td>0.064596</td>\n",
       "      <td>0.007378</td>\n",
       "      <td>0.093256</td>\n",
       "    </tr>\n",
       "    <tr>\n",
       "      <th>bath</th>\n",
       "      <td>0.895786</td>\n",
       "      <td>0.064596</td>\n",
       "      <td>1.000000</td>\n",
       "      <td>0.207970</td>\n",
       "      <td>0.454449</td>\n",
       "    </tr>\n",
       "    <tr>\n",
       "      <th>balcony</th>\n",
       "      <td>0.194358</td>\n",
       "      <td>0.007378</td>\n",
       "      <td>0.207970</td>\n",
       "      <td>1.000000</td>\n",
       "      <td>0.124951</td>\n",
       "    </tr>\n",
       "    <tr>\n",
       "      <th>price</th>\n",
       "      <td>0.398073</td>\n",
       "      <td>0.093256</td>\n",
       "      <td>0.454449</td>\n",
       "      <td>0.124951</td>\n",
       "      <td>1.000000</td>\n",
       "    </tr>\n",
       "  </tbody>\n",
       "</table>\n",
       "</div>"
      ],
      "text/plain": [
       "                 bhk  total_sqft      bath   balcony     price\n",
       "bhk         1.000000    0.067587  0.895786  0.194358  0.398073\n",
       "total_sqft  0.067587    1.000000  0.064596  0.007378  0.093256\n",
       "bath        0.895786    0.064596  1.000000  0.207970  0.454449\n",
       "balcony     0.194358    0.007378  0.207970  1.000000  0.124951\n",
       "price       0.398073    0.093256  0.454449  0.124951  1.000000"
      ]
     },
     "execution_count": 18,
     "metadata": {},
     "output_type": "execute_result"
    }
   ],
   "source": [
    "df1.corr()"
   ]
  },
  {
   "cell_type": "markdown",
   "id": "a8ae6f25",
   "metadata": {},
   "source": [
    "### Insight Drawn:"
   ]
  },
  {
   "cell_type": "markdown",
   "id": "adeae46a",
   "metadata": {},
   "source": [
    "##### Features  that are highly correlated with each other proves that they do the same thing hence one of them is redundant.\n",
    "##### Later on in the analysis we will implement Recursive feature elimination  do deal with that statistical problem"
   ]
  },
  {
   "cell_type": "markdown",
   "id": "cf38c615",
   "metadata": {},
   "source": [
    "## 4- Exploratory Data Analysis\n",
    "We will visualize (with the help of bars,scatter etc), and inteprate the hidden information behind the rows and columns.\n",
    "This step is very important step, and usually done after feature engineering and acquiring the data. Must be done any ML modelling.***EDA*** will help data scientists, to understand the data and not make assumptions.\n",
    "\n",
    ">There are two approaches used to examine the data at hand:\n",
    "\n",
    ">*Descriptive analysis-simply helps in finding the characteristics of numeric features of the datset.Typical examples are mean,mode,standard deviation.\n",
    "\n",
    ">2-Visualizing - simply helps in projected the data into abstract images. These projected images help in drawing insights,preprocessing and modelling. Goes a long way in simplifying most of the steps in the analysis."
   ]
  },
  {
   "cell_type": "markdown",
   "id": "0d357b77",
   "metadata": {},
   "source": [
    "## Descriptive Statisics\n",
    "> Statistical measurement summary to describe the data.In the field of descriptive statistics there are many summary measurements."
   ]
  },
  {
   "cell_type": "markdown",
   "id": "48752990",
   "metadata": {},
   "source": [
    "### Baisc Descriptive statistics"
   ]
  },
  {
   "cell_type": "code",
   "execution_count": 19,
   "id": "5fac8026",
   "metadata": {},
   "outputs": [
    {
     "data": {
      "text/html": [
       "<div>\n",
       "<style scoped>\n",
       "    .dataframe tbody tr th:only-of-type {\n",
       "        vertical-align: middle;\n",
       "    }\n",
       "\n",
       "    .dataframe tbody tr th {\n",
       "        vertical-align: top;\n",
       "    }\n",
       "\n",
       "    .dataframe thead th {\n",
       "        text-align: right;\n",
       "    }\n",
       "</style>\n",
       "<table border=\"1\" class=\"dataframe\">\n",
       "  <thead>\n",
       "    <tr style=\"text-align: right;\">\n",
       "      <th></th>\n",
       "      <th>bhk</th>\n",
       "      <th>total_sqft</th>\n",
       "      <th>bath</th>\n",
       "      <th>balcony</th>\n",
       "      <th>price</th>\n",
       "    </tr>\n",
       "  </thead>\n",
       "  <tbody>\n",
       "    <tr>\n",
       "      <th>count</th>\n",
       "      <td>13320.000000</td>\n",
       "      <td>13320.000000</td>\n",
       "      <td>13320.000000</td>\n",
       "      <td>13320.000000</td>\n",
       "      <td>13320.000000</td>\n",
       "    </tr>\n",
       "    <tr>\n",
       "      <th>mean</th>\n",
       "      <td>2.802778</td>\n",
       "      <td>1724.688042</td>\n",
       "      <td>2.688814</td>\n",
       "      <td>1.603378</td>\n",
       "      <td>112.565652</td>\n",
       "    </tr>\n",
       "    <tr>\n",
       "      <th>std</th>\n",
       "      <td>1.294496</td>\n",
       "      <td>8726.807074</td>\n",
       "      <td>1.338754</td>\n",
       "      <td>0.803067</td>\n",
       "      <td>148.971663</td>\n",
       "    </tr>\n",
       "    <tr>\n",
       "      <th>min</th>\n",
       "      <td>1.000000</td>\n",
       "      <td>1.000000</td>\n",
       "      <td>1.000000</td>\n",
       "      <td>0.000000</td>\n",
       "      <td>8.000000</td>\n",
       "    </tr>\n",
       "    <tr>\n",
       "      <th>25%</th>\n",
       "      <td>2.000000</td>\n",
       "      <td>1100.000000</td>\n",
       "      <td>2.000000</td>\n",
       "      <td>1.000000</td>\n",
       "      <td>50.000000</td>\n",
       "    </tr>\n",
       "    <tr>\n",
       "      <th>50%</th>\n",
       "      <td>3.000000</td>\n",
       "      <td>1276.000000</td>\n",
       "      <td>2.000000</td>\n",
       "      <td>2.000000</td>\n",
       "      <td>72.000000</td>\n",
       "    </tr>\n",
       "    <tr>\n",
       "      <th>75%</th>\n",
       "      <td>3.000000</td>\n",
       "      <td>1680.000000</td>\n",
       "      <td>3.000000</td>\n",
       "      <td>2.000000</td>\n",
       "      <td>120.000000</td>\n",
       "    </tr>\n",
       "    <tr>\n",
       "      <th>max</th>\n",
       "      <td>43.000000</td>\n",
       "      <td>653400.000000</td>\n",
       "      <td>40.000000</td>\n",
       "      <td>3.000000</td>\n",
       "      <td>3600.000000</td>\n",
       "    </tr>\n",
       "  </tbody>\n",
       "</table>\n",
       "</div>"
      ],
      "text/plain": [
       "                bhk     total_sqft          bath       balcony         price\n",
       "count  13320.000000   13320.000000  13320.000000  13320.000000  13320.000000\n",
       "mean       2.802778    1724.688042      2.688814      1.603378    112.565652\n",
       "std        1.294496    8726.807074      1.338754      0.803067    148.971663\n",
       "min        1.000000       1.000000      1.000000      0.000000      8.000000\n",
       "25%        2.000000    1100.000000      2.000000      1.000000     50.000000\n",
       "50%        3.000000    1276.000000      2.000000      2.000000     72.000000\n",
       "75%        3.000000    1680.000000      3.000000      2.000000    120.000000\n",
       "max       43.000000  653400.000000     40.000000      3.000000   3600.000000"
      ]
     },
     "execution_count": 19,
     "metadata": {},
     "output_type": "execute_result"
    }
   ],
   "source": [
    "df1.describe()"
   ]
  },
  {
   "cell_type": "code",
   "execution_count": 20,
   "id": "bc0566a7",
   "metadata": {},
   "outputs": [
    {
     "data": {
      "text/plain": [
       "bhk            4.823510\n",
       "total_sqft    66.112871\n",
       "bath           4.237801\n",
       "balcony       -0.058782\n",
       "price          8.064470\n",
       "dtype: float64"
      ]
     },
     "execution_count": 20,
     "metadata": {},
     "output_type": "execute_result"
    }
   ],
   "source": [
    "df1.skew()"
   ]
  },
  {
   "cell_type": "code",
   "execution_count": 21,
   "id": "3c199745",
   "metadata": {},
   "outputs": [
    {
     "data": {
      "text/plain": [
       "location      0\n",
       "bhk           0\n",
       "total_sqft    0\n",
       "bath          0\n",
       "balcony       0\n",
       "price         0\n",
       "dtype: int64"
      ]
     },
     "execution_count": 21,
     "metadata": {},
     "output_type": "execute_result"
    }
   ],
   "source": [
    "df1.isnull().sum()"
   ]
  },
  {
   "cell_type": "markdown",
   "id": "d4f57083",
   "metadata": {},
   "source": [
    "## EXPLORATORY DATA ANALYSIS"
   ]
  },
  {
   "cell_type": "code",
   "execution_count": 22,
   "id": "41836fba",
   "metadata": {},
   "outputs": [
    {
     "data": {
      "text/plain": [
       "array([[<AxesSubplot:title={'center':'bhk'}>,\n",
       "        <AxesSubplot:title={'center':'total_sqft'}>],\n",
       "       [<AxesSubplot:title={'center':'bath'}>,\n",
       "        <AxesSubplot:title={'center':'balcony'}>],\n",
       "       [<AxesSubplot:title={'center':'price'}>, <AxesSubplot:>]],\n",
       "      dtype=object)"
      ]
     },
     "execution_count": 22,
     "metadata": {},
     "output_type": "execute_result"
    },
    {
     "data": {
      "image/png": "[encoded data removed]",
      "text/plain": [
       "<Figure size 1080x1080 with 6 Axes>"
      ]
     },
     "metadata": {
      "needs_background": "light"
     },
     "output_type": "display_data"
    }
   ],
   "source": [
    "df1.hist(bins=10, figsize=(15, 15),grid=False,)"
   ]
  },
  {
   "cell_type": "markdown",
   "id": "db8af42c",
   "metadata": {},
   "source": [
    "### Return ‘other’ if the count of location is less than 10."
   ]
  },
  {
   "cell_type": "code",
   "execution_count": 23,
   "id": "c9f7bcf3",
   "metadata": {},
   "outputs": [
    {
     "data": {
      "text/plain": [
       "Whitefield                 False\n",
       "Sarjapur  Road             False\n",
       "Electronic City            False\n",
       "Kanakpura Road             False\n",
       "Thanisandra                False\n",
       "                           ...  \n",
       "Sector 3 HSR Layout         True\n",
       "Sundar Ram Shetty Nagar     True\n",
       "Chokkahalli                 True\n",
       "Tharabanahalli              True\n",
       "Gulakamale                  True\n",
       "Name: location, Length: 1305, dtype: bool"
      ]
     },
     "execution_count": 23,
     "metadata": {},
     "output_type": "execute_result"
    }
   ],
   "source": [
    "# location less than 10 \n",
    "df1.location.value_counts() < 10"
   ]
  },
  {
   "cell_type": "code",
   "execution_count": 24,
   "id": "597f73fb",
   "metadata": {},
   "outputs": [],
   "source": [
    "df2 = df1.copy()"
   ]
  },
  {
   "cell_type": "code",
   "execution_count": 25,
   "id": "0385e6a3",
   "metadata": {},
   "outputs": [],
   "source": [
    "df2['location'] = df2['location'].apply(lambda x: x.strip())\n"
   ]
  },
  {
   "cell_type": "code",
   "execution_count": 26,
   "id": "db0ac7a5",
   "metadata": {},
   "outputs": [],
   "source": [
    "location_count=df2.location.value_counts()\n"
   ]
  },
  {
   "cell_type": "code",
   "execution_count": 27,
   "id": "ad786fe1",
   "metadata": {},
   "outputs": [
    {
     "data": {
      "text/plain": [
       "Whitefield                542\n",
       "Sarjapur  Road            399\n",
       "Electronic City           304\n",
       "Kanakpura Road            273\n",
       "Thanisandra               237\n",
       "                         ... \n",
       "Chowdeshwari Layout         1\n",
       "RTO ullalu                  1\n",
       "MEI layout, Bagalgunte      1\n",
       "Narasapura                  1\n",
       "kamanahalli main road       1\n",
       "Name: location, Length: 1294, dtype: int64"
      ]
     },
     "execution_count": 27,
     "metadata": {},
     "output_type": "execute_result"
    }
   ],
   "source": [
    "location_count"
   ]
  },
  {
   "cell_type": "code",
   "execution_count": 28,
   "id": "1d71c3c2",
   "metadata": {},
   "outputs": [],
   "source": [
    "location_count_10 = location_count[location_count < 10]"
   ]
  },
  {
   "cell_type": "code",
   "execution_count": 29,
   "id": "e2ad66df",
   "metadata": {},
   "outputs": [
    {
     "data": {
      "text/plain": [
       "B Narayanapura            9\n",
       "Chennammana Kere          9\n",
       "Ejipura                   9\n",
       "Kamakshipalya             9\n",
       "Peenya                    9\n",
       "                         ..\n",
       "Chowdeshwari Layout       1\n",
       "RTO ullalu                1\n",
       "MEI layout, Bagalgunte    1\n",
       "Narasapura                1\n",
       "kamanahalli main road     1\n",
       "Name: location, Length: 1040, dtype: int64"
      ]
     },
     "execution_count": 29,
     "metadata": {},
     "output_type": "execute_result"
    }
   ],
   "source": [
    "location_count_10"
   ]
  },
  {
   "cell_type": "code",
   "execution_count": 30,
   "id": "efce4fb0",
   "metadata": {},
   "outputs": [],
   "source": [
    "df3=df2.copy()"
   ]
  },
  {
   "cell_type": "code",
   "execution_count": 31,
   "id": "d44312c6",
   "metadata": {},
   "outputs": [],
   "source": [
    "df3['location'] = df3['location'].apply(lambda x: 'other' if x in location_count_10 else x)"
   ]
  },
  {
   "cell_type": "code",
   "execution_count": 32,
   "id": "1bca56a1",
   "metadata": {},
   "outputs": [
    {
     "data": {
      "text/plain": [
       "other                    2755\n",
       "Whitefield                542\n",
       "Sarjapur  Road            399\n",
       "Electronic City           304\n",
       "Kanakpura Road            273\n",
       "                         ... \n",
       "1st Block Koramangala      10\n",
       "BTM 1st Stage              10\n",
       "Nagadevanahalli            10\n",
       "Ganga Nagar                10\n",
       "Nagappa Reddy Layout       10\n",
       "Name: location, Length: 255, dtype: int64"
      ]
     },
     "execution_count": 32,
     "metadata": {},
     "output_type": "execute_result"
    }
   ],
   "source": [
    "df3.location.value_counts()"
   ]
  },
  {
   "cell_type": "markdown",
   "id": "196e7efc",
   "metadata": {},
   "source": [
    "#### Remove outliers from the bhk features,all bhk removed from where bhk less than 300 sqfeet."
   ]
  },
  {
   "cell_type": "code",
   "execution_count": 33,
   "id": "0287a64d",
   "metadata": {},
   "outputs": [],
   "source": [
    "df3 = df3[~(df3.total_sqft/df3.bhk < 300)]"
   ]
  },
  {
   "cell_type": "code",
   "execution_count": 34,
   "id": "0e1c872d",
   "metadata": {},
   "outputs": [
    {
     "data": {
      "text/html": [
       "<div>\n",
       "<style scoped>\n",
       "    .dataframe tbody tr th:only-of-type {\n",
       "        vertical-align: middle;\n",
       "    }\n",
       "\n",
       "    .dataframe tbody tr th {\n",
       "        vertical-align: top;\n",
       "    }\n",
       "\n",
       "    .dataframe thead th {\n",
       "        text-align: right;\n",
       "    }\n",
       "</style>\n",
       "<table border=\"1\" class=\"dataframe\">\n",
       "  <thead>\n",
       "    <tr style=\"text-align: right;\">\n",
       "      <th></th>\n",
       "      <th>location</th>\n",
       "      <th>bhk</th>\n",
       "      <th>total_sqft</th>\n",
       "      <th>bath</th>\n",
       "      <th>balcony</th>\n",
       "      <th>price</th>\n",
       "    </tr>\n",
       "  </thead>\n",
       "  <tbody>\n",
       "    <tr>\n",
       "      <th>0</th>\n",
       "      <td>Electronic City Phase II</td>\n",
       "      <td>2</td>\n",
       "      <td>1056.0</td>\n",
       "      <td>2</td>\n",
       "      <td>1</td>\n",
       "      <td>39.07</td>\n",
       "    </tr>\n",
       "    <tr>\n",
       "      <th>1</th>\n",
       "      <td>Chikka Tirupathi</td>\n",
       "      <td>4</td>\n",
       "      <td>2600.0</td>\n",
       "      <td>5</td>\n",
       "      <td>3</td>\n",
       "      <td>120.00</td>\n",
       "    </tr>\n",
       "    <tr>\n",
       "      <th>2</th>\n",
       "      <td>Uttarahalli</td>\n",
       "      <td>3</td>\n",
       "      <td>1440.0</td>\n",
       "      <td>2</td>\n",
       "      <td>3</td>\n",
       "      <td>62.00</td>\n",
       "    </tr>\n",
       "    <tr>\n",
       "      <th>3</th>\n",
       "      <td>Lingadheeranahalli</td>\n",
       "      <td>3</td>\n",
       "      <td>1521.0</td>\n",
       "      <td>3</td>\n",
       "      <td>1</td>\n",
       "      <td>95.00</td>\n",
       "    </tr>\n",
       "    <tr>\n",
       "      <th>4</th>\n",
       "      <td>Kothanur</td>\n",
       "      <td>2</td>\n",
       "      <td>1200.0</td>\n",
       "      <td>2</td>\n",
       "      <td>1</td>\n",
       "      <td>51.00</td>\n",
       "    </tr>\n",
       "    <tr>\n",
       "      <th>...</th>\n",
       "      <td>...</td>\n",
       "      <td>...</td>\n",
       "      <td>...</td>\n",
       "      <td>...</td>\n",
       "      <td>...</td>\n",
       "      <td>...</td>\n",
       "    </tr>\n",
       "    <tr>\n",
       "      <th>13315</th>\n",
       "      <td>Whitefield</td>\n",
       "      <td>5</td>\n",
       "      <td>3453.0</td>\n",
       "      <td>4</td>\n",
       "      <td>0</td>\n",
       "      <td>231.00</td>\n",
       "    </tr>\n",
       "    <tr>\n",
       "      <th>13316</th>\n",
       "      <td>other</td>\n",
       "      <td>4</td>\n",
       "      <td>3600.0</td>\n",
       "      <td>5</td>\n",
       "      <td>2</td>\n",
       "      <td>400.00</td>\n",
       "    </tr>\n",
       "    <tr>\n",
       "      <th>13317</th>\n",
       "      <td>Raja Rajeshwari Nagar</td>\n",
       "      <td>2</td>\n",
       "      <td>1141.0</td>\n",
       "      <td>2</td>\n",
       "      <td>1</td>\n",
       "      <td>60.00</td>\n",
       "    </tr>\n",
       "    <tr>\n",
       "      <th>13318</th>\n",
       "      <td>Padmanabhanagar</td>\n",
       "      <td>4</td>\n",
       "      <td>4689.0</td>\n",
       "      <td>4</td>\n",
       "      <td>1</td>\n",
       "      <td>488.00</td>\n",
       "    </tr>\n",
       "    <tr>\n",
       "      <th>13319</th>\n",
       "      <td>Doddathoguru</td>\n",
       "      <td>1</td>\n",
       "      <td>550.0</td>\n",
       "      <td>1</td>\n",
       "      <td>1</td>\n",
       "      <td>17.00</td>\n",
       "    </tr>\n",
       "  </tbody>\n",
       "</table>\n",
       "<p>12562 rows × 6 columns</p>\n",
       "</div>"
      ],
      "text/plain": [
       "                       location  bhk  total_sqft  bath  balcony   price\n",
       "0      Electronic City Phase II    2      1056.0     2        1   39.07\n",
       "1              Chikka Tirupathi    4      2600.0     5        3  120.00\n",
       "2                   Uttarahalli    3      1440.0     2        3   62.00\n",
       "3            Lingadheeranahalli    3      1521.0     3        1   95.00\n",
       "4                      Kothanur    2      1200.0     2        1   51.00\n",
       "...                         ...  ...         ...   ...      ...     ...\n",
       "13315                Whitefield    5      3453.0     4        0  231.00\n",
       "13316                     other    4      3600.0     5        2  400.00\n",
       "13317     Raja Rajeshwari Nagar    2      1141.0     2        1   60.00\n",
       "13318           Padmanabhanagar    4      4689.0     4        1  488.00\n",
       "13319              Doddathoguru    1       550.0     1        1   17.00\n",
       "\n",
       "[12562 rows x 6 columns]"
      ]
     },
     "execution_count": 34,
     "metadata": {},
     "output_type": "execute_result"
    }
   ],
   "source": [
    "df3"
   ]
  },
  {
   "cell_type": "code",
   "execution_count": 35,
   "id": "fba5d71a",
   "metadata": {},
   "outputs": [],
   "source": [
    "df3['per_sq_feet_price'] = (df3['price']*100000)/df3['total_sqft']"
   ]
  },
  {
   "cell_type": "code",
   "execution_count": 36,
   "id": "27c21102",
   "metadata": {},
   "outputs": [
    {
     "data": {
      "text/plain": [
       "count     12562.000000\n",
       "mean       6295.954463\n",
       "std        4162.808919\n",
       "min          30.609122\n",
       "25%        4204.039099\n",
       "50%        5291.005291\n",
       "75%        6916.029840\n",
       "max      176470.588235\n",
       "Name: per_sq_feet_price, dtype: float64"
      ]
     },
     "execution_count": 36,
     "metadata": {},
     "output_type": "execute_result"
    }
   ],
   "source": [
    "df3['per_sq_feet_price'].describe()"
   ]
  },
  {
   "cell_type": "markdown",
   "id": "849b8f8f",
   "metadata": {},
   "source": [
    "##### Standard Deviation technique to remove the outliers from the per_sq_feet_price."
   ]
  },
  {
   "cell_type": "code",
   "execution_count": 37,
   "id": "d2ddd64f",
   "metadata": {},
   "outputs": [],
   "source": [
    "def rmv_outlierBy_std(x):\n",
    "    out_df = pd.DataFrame()\n",
    "    for key, subdf in x.groupby('location'):\n",
    "        mean = np.mean(subdf.per_sq_feet_price)\n",
    "        std = np.std(subdf.per_sq_feet_price)\n",
    "        reduced_df = subdf[(subdf.per_sq_feet_price > (mean - std)) & (subdf.per_sq_feet_price < (mean + std))]\n",
    "        out_df = pd.concat([out_df, reduced_df], ignore_index = True)\n",
    "    return out_df\n",
    "\n",
    "df4 = rmv_outlierBy_std(df3)"
   ]
  },
  {
   "cell_type": "code",
   "execution_count": 38,
   "id": "985e3470",
   "metadata": {},
   "outputs": [
    {
     "data": {
      "text/html": [
       "<div>\n",
       "<style scoped>\n",
       "    .dataframe tbody tr th:only-of-type {\n",
       "        vertical-align: middle;\n",
       "    }\n",
       "\n",
       "    .dataframe tbody tr th {\n",
       "        vertical-align: top;\n",
       "    }\n",
       "\n",
       "    .dataframe thead th {\n",
       "        text-align: right;\n",
       "    }\n",
       "</style>\n",
       "<table border=\"1\" class=\"dataframe\">\n",
       "  <thead>\n",
       "    <tr style=\"text-align: right;\">\n",
       "      <th></th>\n",
       "      <th>location</th>\n",
       "      <th>bhk</th>\n",
       "      <th>total_sqft</th>\n",
       "      <th>bath</th>\n",
       "      <th>balcony</th>\n",
       "      <th>price</th>\n",
       "      <th>per_sq_feet_price</th>\n",
       "    </tr>\n",
       "  </thead>\n",
       "  <tbody>\n",
       "    <tr>\n",
       "      <th>0</th>\n",
       "      <td>1st Block Jayanagar</td>\n",
       "      <td>4</td>\n",
       "      <td>2850.0</td>\n",
       "      <td>4</td>\n",
       "      <td>1</td>\n",
       "      <td>428.00</td>\n",
       "      <td>15017.543860</td>\n",
       "    </tr>\n",
       "    <tr>\n",
       "      <th>1</th>\n",
       "      <td>1st Block Jayanagar</td>\n",
       "      <td>3</td>\n",
       "      <td>1630.0</td>\n",
       "      <td>3</td>\n",
       "      <td>2</td>\n",
       "      <td>194.00</td>\n",
       "      <td>11901.840491</td>\n",
       "    </tr>\n",
       "    <tr>\n",
       "      <th>2</th>\n",
       "      <td>1st Block Jayanagar</td>\n",
       "      <td>3</td>\n",
       "      <td>1875.0</td>\n",
       "      <td>2</td>\n",
       "      <td>3</td>\n",
       "      <td>235.00</td>\n",
       "      <td>12533.333333</td>\n",
       "    </tr>\n",
       "    <tr>\n",
       "      <th>3</th>\n",
       "      <td>1st Block Jayanagar</td>\n",
       "      <td>3</td>\n",
       "      <td>1200.0</td>\n",
       "      <td>2</td>\n",
       "      <td>0</td>\n",
       "      <td>130.00</td>\n",
       "      <td>10833.333333</td>\n",
       "    </tr>\n",
       "    <tr>\n",
       "      <th>4</th>\n",
       "      <td>1st Block Jayanagar</td>\n",
       "      <td>2</td>\n",
       "      <td>1235.0</td>\n",
       "      <td>2</td>\n",
       "      <td>2</td>\n",
       "      <td>148.00</td>\n",
       "      <td>11983.805668</td>\n",
       "    </tr>\n",
       "    <tr>\n",
       "      <th>...</th>\n",
       "      <td>...</td>\n",
       "      <td>...</td>\n",
       "      <td>...</td>\n",
       "      <td>...</td>\n",
       "      <td>...</td>\n",
       "      <td>...</td>\n",
       "      <td>...</td>\n",
       "    </tr>\n",
       "    <tr>\n",
       "      <th>10299</th>\n",
       "      <td>other</td>\n",
       "      <td>2</td>\n",
       "      <td>1353.0</td>\n",
       "      <td>2</td>\n",
       "      <td>2</td>\n",
       "      <td>110.00</td>\n",
       "      <td>8130.081301</td>\n",
       "    </tr>\n",
       "    <tr>\n",
       "      <th>10300</th>\n",
       "      <td>other</td>\n",
       "      <td>1</td>\n",
       "      <td>812.0</td>\n",
       "      <td>1</td>\n",
       "      <td>0</td>\n",
       "      <td>26.00</td>\n",
       "      <td>3201.970443</td>\n",
       "    </tr>\n",
       "    <tr>\n",
       "      <th>10301</th>\n",
       "      <td>other</td>\n",
       "      <td>3</td>\n",
       "      <td>1440.0</td>\n",
       "      <td>2</td>\n",
       "      <td>2</td>\n",
       "      <td>63.93</td>\n",
       "      <td>4439.583333</td>\n",
       "    </tr>\n",
       "    <tr>\n",
       "      <th>10302</th>\n",
       "      <td>other</td>\n",
       "      <td>2</td>\n",
       "      <td>1075.0</td>\n",
       "      <td>2</td>\n",
       "      <td>2</td>\n",
       "      <td>48.00</td>\n",
       "      <td>4465.116279</td>\n",
       "    </tr>\n",
       "    <tr>\n",
       "      <th>10303</th>\n",
       "      <td>other</td>\n",
       "      <td>4</td>\n",
       "      <td>3600.0</td>\n",
       "      <td>5</td>\n",
       "      <td>2</td>\n",
       "      <td>400.00</td>\n",
       "      <td>11111.111111</td>\n",
       "    </tr>\n",
       "  </tbody>\n",
       "</table>\n",
       "<p>10304 rows × 7 columns</p>\n",
       "</div>"
      ],
      "text/plain": [
       "                  location  bhk  total_sqft  bath  balcony   price  \\\n",
       "0      1st Block Jayanagar    4      2850.0     4        1  428.00   \n",
       "1      1st Block Jayanagar    3      1630.0     3        2  194.00   \n",
       "2      1st Block Jayanagar    3      1875.0     2        3  235.00   \n",
       "3      1st Block Jayanagar    3      1200.0     2        0  130.00   \n",
       "4      1st Block Jayanagar    2      1235.0     2        2  148.00   \n",
       "...                    ...  ...         ...   ...      ...     ...   \n",
       "10299                other    2      1353.0     2        2  110.00   \n",
       "10300                other    1       812.0     1        0   26.00   \n",
       "10301                other    3      1440.0     2        2   63.93   \n",
       "10302                other    2      1075.0     2        2   48.00   \n",
       "10303                other    4      3600.0     5        2  400.00   \n",
       "\n",
       "       per_sq_feet_price  \n",
       "0           15017.543860  \n",
       "1           11901.840491  \n",
       "2           12533.333333  \n",
       "3           10833.333333  \n",
       "4           11983.805668  \n",
       "...                  ...  \n",
       "10299        8130.081301  \n",
       "10300        3201.970443  \n",
       "10301        4439.583333  \n",
       "10302        4465.116279  \n",
       "10303       11111.111111  \n",
       "\n",
       "[10304 rows x 7 columns]"
      ]
     },
     "execution_count": 38,
     "metadata": {},
     "output_type": "execute_result"
    }
   ],
   "source": [
    "df4"
   ]
  },
  {
   "cell_type": "markdown",
   "id": "2ed9332b",
   "metadata": {},
   "source": [
    "##### Now we can remove those 2 BHK apartments whose per_sq_feet_price is less than mean per_sq_feet_price of 1 BHK apartment"
   ]
  },
  {
   "cell_type": "code",
   "execution_count": 39,
   "id": "4a6d77e2",
   "metadata": {},
   "outputs": [],
   "source": [
    "def remove_bhk_outliers(df):\n",
    "    exclude_indices = np.array([])\n",
    "    for location, location_df in df.groupby('location'):\n",
    "        bhk_stats = {}\n",
    "        for bhk, bhk_df in location_df.groupby('bhk'):\n",
    "            bhk_stats[bhk] = {\n",
    "                'mean': np.mean(bhk_df.per_sq_feet_price),\n",
    "                'std': np.std(bhk_df.per_sq_feet_price),\n",
    "                'count': bhk_df.shape[0]\n",
    "            }\n",
    "        for bhk, bhk_df in location_df.groupby('bhk'):\n",
    "            stats = bhk_stats.get(bhk-1)\n",
    "            if stats and stats['count']>5:\n",
    "                exclude_indices = np.append(exclude_indices, bhk_df[bhk_df.per_sq_feet_price<(stats['mean'])].index.values)\n",
    "    return df.drop(exclude_indices,axis='index')\n",
    "df5 = remove_bhk_outliers(df4)"
   ]
  },
  {
   "cell_type": "code",
   "execution_count": 40,
   "id": "0b09b6cd",
   "metadata": {},
   "outputs": [
    {
     "data": {
      "text/html": [
       "<div>\n",
       "<style scoped>\n",
       "    .dataframe tbody tr th:only-of-type {\n",
       "        vertical-align: middle;\n",
       "    }\n",
       "\n",
       "    .dataframe tbody tr th {\n",
       "        vertical-align: top;\n",
       "    }\n",
       "\n",
       "    .dataframe thead th {\n",
       "        text-align: right;\n",
       "    }\n",
       "</style>\n",
       "<table border=\"1\" class=\"dataframe\">\n",
       "  <thead>\n",
       "    <tr style=\"text-align: right;\">\n",
       "      <th></th>\n",
       "      <th>location</th>\n",
       "      <th>bhk</th>\n",
       "      <th>total_sqft</th>\n",
       "      <th>bath</th>\n",
       "      <th>balcony</th>\n",
       "      <th>price</th>\n",
       "      <th>per_sq_feet_price</th>\n",
       "    </tr>\n",
       "  </thead>\n",
       "  <tbody>\n",
       "    <tr>\n",
       "      <th>0</th>\n",
       "      <td>1st Block Jayanagar</td>\n",
       "      <td>4</td>\n",
       "      <td>2850.0</td>\n",
       "      <td>4</td>\n",
       "      <td>1</td>\n",
       "      <td>428.0</td>\n",
       "      <td>15017.543860</td>\n",
       "    </tr>\n",
       "    <tr>\n",
       "      <th>1</th>\n",
       "      <td>1st Block Jayanagar</td>\n",
       "      <td>3</td>\n",
       "      <td>1630.0</td>\n",
       "      <td>3</td>\n",
       "      <td>2</td>\n",
       "      <td>194.0</td>\n",
       "      <td>11901.840491</td>\n",
       "    </tr>\n",
       "    <tr>\n",
       "      <th>2</th>\n",
       "      <td>1st Block Jayanagar</td>\n",
       "      <td>3</td>\n",
       "      <td>1875.0</td>\n",
       "      <td>2</td>\n",
       "      <td>3</td>\n",
       "      <td>235.0</td>\n",
       "      <td>12533.333333</td>\n",
       "    </tr>\n",
       "    <tr>\n",
       "      <th>3</th>\n",
       "      <td>1st Block Jayanagar</td>\n",
       "      <td>3</td>\n",
       "      <td>1200.0</td>\n",
       "      <td>2</td>\n",
       "      <td>0</td>\n",
       "      <td>130.0</td>\n",
       "      <td>10833.333333</td>\n",
       "    </tr>\n",
       "    <tr>\n",
       "      <th>4</th>\n",
       "      <td>1st Block Jayanagar</td>\n",
       "      <td>2</td>\n",
       "      <td>1235.0</td>\n",
       "      <td>2</td>\n",
       "      <td>2</td>\n",
       "      <td>148.0</td>\n",
       "      <td>11983.805668</td>\n",
       "    </tr>\n",
       "    <tr>\n",
       "      <th>...</th>\n",
       "      <td>...</td>\n",
       "      <td>...</td>\n",
       "      <td>...</td>\n",
       "      <td>...</td>\n",
       "      <td>...</td>\n",
       "      <td>...</td>\n",
       "      <td>...</td>\n",
       "    </tr>\n",
       "    <tr>\n",
       "      <th>10295</th>\n",
       "      <td>other</td>\n",
       "      <td>2</td>\n",
       "      <td>1200.0</td>\n",
       "      <td>2</td>\n",
       "      <td>3</td>\n",
       "      <td>70.0</td>\n",
       "      <td>5833.333333</td>\n",
       "    </tr>\n",
       "    <tr>\n",
       "      <th>10296</th>\n",
       "      <td>other</td>\n",
       "      <td>1</td>\n",
       "      <td>1800.0</td>\n",
       "      <td>1</td>\n",
       "      <td>1</td>\n",
       "      <td>200.0</td>\n",
       "      <td>11111.111111</td>\n",
       "    </tr>\n",
       "    <tr>\n",
       "      <th>10299</th>\n",
       "      <td>other</td>\n",
       "      <td>2</td>\n",
       "      <td>1353.0</td>\n",
       "      <td>2</td>\n",
       "      <td>2</td>\n",
       "      <td>110.0</td>\n",
       "      <td>8130.081301</td>\n",
       "    </tr>\n",
       "    <tr>\n",
       "      <th>10300</th>\n",
       "      <td>other</td>\n",
       "      <td>1</td>\n",
       "      <td>812.0</td>\n",
       "      <td>1</td>\n",
       "      <td>0</td>\n",
       "      <td>26.0</td>\n",
       "      <td>3201.970443</td>\n",
       "    </tr>\n",
       "    <tr>\n",
       "      <th>10303</th>\n",
       "      <td>other</td>\n",
       "      <td>4</td>\n",
       "      <td>3600.0</td>\n",
       "      <td>5</td>\n",
       "      <td>2</td>\n",
       "      <td>400.0</td>\n",
       "      <td>11111.111111</td>\n",
       "    </tr>\n",
       "  </tbody>\n",
       "</table>\n",
       "<p>7415 rows × 7 columns</p>\n",
       "</div>"
      ],
      "text/plain": [
       "                  location  bhk  total_sqft  bath  balcony  price  \\\n",
       "0      1st Block Jayanagar    4      2850.0     4        1  428.0   \n",
       "1      1st Block Jayanagar    3      1630.0     3        2  194.0   \n",
       "2      1st Block Jayanagar    3      1875.0     2        3  235.0   \n",
       "3      1st Block Jayanagar    3      1200.0     2        0  130.0   \n",
       "4      1st Block Jayanagar    2      1235.0     2        2  148.0   \n",
       "...                    ...  ...         ...   ...      ...    ...   \n",
       "10295                other    2      1200.0     2        3   70.0   \n",
       "10296                other    1      1800.0     1        1  200.0   \n",
       "10299                other    2      1353.0     2        2  110.0   \n",
       "10300                other    1       812.0     1        0   26.0   \n",
       "10303                other    4      3600.0     5        2  400.0   \n",
       "\n",
       "       per_sq_feet_price  \n",
       "0           15017.543860  \n",
       "1           11901.840491  \n",
       "2           12533.333333  \n",
       "3           10833.333333  \n",
       "4           11983.805668  \n",
       "...                  ...  \n",
       "10295        5833.333333  \n",
       "10296       11111.111111  \n",
       "10299        8130.081301  \n",
       "10300        3201.970443  \n",
       "10303       11111.111111  \n",
       "\n",
       "[7415 rows x 7 columns]"
      ]
     },
     "execution_count": 40,
     "metadata": {},
     "output_type": "execute_result"
    }
   ],
   "source": [
    "df5"
   ]
  },
  {
   "cell_type": "code",
   "execution_count": 41,
   "id": "c04bb66d",
   "metadata": {},
   "outputs": [
    {
     "data": {
      "text/html": [
       "<div>\n",
       "<style scoped>\n",
       "    .dataframe tbody tr th:only-of-type {\n",
       "        vertical-align: middle;\n",
       "    }\n",
       "\n",
       "    .dataframe tbody tr th {\n",
       "        vertical-align: top;\n",
       "    }\n",
       "\n",
       "    .dataframe thead th {\n",
       "        text-align: right;\n",
       "    }\n",
       "</style>\n",
       "<table border=\"1\" class=\"dataframe\">\n",
       "  <thead>\n",
       "    <tr style=\"text-align: right;\">\n",
       "      <th></th>\n",
       "      <th>location</th>\n",
       "      <th>bhk</th>\n",
       "      <th>total_sqft</th>\n",
       "      <th>bath</th>\n",
       "      <th>balcony</th>\n",
       "      <th>price</th>\n",
       "      <th>per_sq_feet_price</th>\n",
       "    </tr>\n",
       "  </thead>\n",
       "  <tbody>\n",
       "    <tr>\n",
       "      <th>587</th>\n",
       "      <td>BTM 1st Stage</td>\n",
       "      <td>9</td>\n",
       "      <td>3300.0</td>\n",
       "      <td>14</td>\n",
       "      <td>2</td>\n",
       "      <td>500.0</td>\n",
       "      <td>15151.515152</td>\n",
       "    </tr>\n",
       "    <tr>\n",
       "      <th>5393</th>\n",
       "      <td>Neeladri Nagar</td>\n",
       "      <td>10</td>\n",
       "      <td>4000.0</td>\n",
       "      <td>12</td>\n",
       "      <td>2</td>\n",
       "      <td>160.0</td>\n",
       "      <td>4000.000000</td>\n",
       "    </tr>\n",
       "    <tr>\n",
       "      <th>8622</th>\n",
       "      <td>other</td>\n",
       "      <td>10</td>\n",
       "      <td>12000.0</td>\n",
       "      <td>12</td>\n",
       "      <td>2</td>\n",
       "      <td>525.0</td>\n",
       "      <td>4375.000000</td>\n",
       "    </tr>\n",
       "    <tr>\n",
       "      <th>8707</th>\n",
       "      <td>other</td>\n",
       "      <td>16</td>\n",
       "      <td>10000.0</td>\n",
       "      <td>16</td>\n",
       "      <td>2</td>\n",
       "      <td>550.0</td>\n",
       "      <td>5500.000000</td>\n",
       "    </tr>\n",
       "    <tr>\n",
       "      <th>9405</th>\n",
       "      <td>other</td>\n",
       "      <td>11</td>\n",
       "      <td>6000.0</td>\n",
       "      <td>12</td>\n",
       "      <td>2</td>\n",
       "      <td>150.0</td>\n",
       "      <td>2500.000000</td>\n",
       "    </tr>\n",
       "    <tr>\n",
       "      <th>9720</th>\n",
       "      <td>other</td>\n",
       "      <td>13</td>\n",
       "      <td>5425.0</td>\n",
       "      <td>13</td>\n",
       "      <td>0</td>\n",
       "      <td>275.0</td>\n",
       "      <td>5069.124424</td>\n",
       "    </tr>\n",
       "  </tbody>\n",
       "</table>\n",
       "</div>"
      ],
      "text/plain": [
       "            location  bhk  total_sqft  bath  balcony  price  per_sq_feet_price\n",
       "587    BTM 1st Stage    9      3300.0    14        2  500.0       15151.515152\n",
       "5393  Neeladri Nagar   10      4000.0    12        2  160.0        4000.000000\n",
       "8622           other   10     12000.0    12        2  525.0        4375.000000\n",
       "8707           other   16     10000.0    16        2  550.0        5500.000000\n",
       "9405           other   11      6000.0    12        2  150.0        2500.000000\n",
       "9720           other   13      5425.0    13        0  275.0        5069.124424"
      ]
     },
     "execution_count": 41,
     "metadata": {},
     "output_type": "execute_result"
    }
   ],
   "source": [
    "df5[df5.bath > 10]"
   ]
  },
  {
   "cell_type": "code",
   "execution_count": 42,
   "id": "a4f6310e",
   "metadata": {},
   "outputs": [],
   "source": [
    "df5=df5.drop([587,5393,8622,8707,9405,9720],axis=0)"
   ]
  },
  {
   "cell_type": "code",
   "execution_count": 43,
   "id": "89a5d85e",
   "metadata": {},
   "outputs": [
    {
     "data": {
      "text/html": [
       "<div>\n",
       "<style scoped>\n",
       "    .dataframe tbody tr th:only-of-type {\n",
       "        vertical-align: middle;\n",
       "    }\n",
       "\n",
       "    .dataframe tbody tr th {\n",
       "        vertical-align: top;\n",
       "    }\n",
       "\n",
       "    .dataframe thead th {\n",
       "        text-align: right;\n",
       "    }\n",
       "</style>\n",
       "<table border=\"1\" class=\"dataframe\">\n",
       "  <thead>\n",
       "    <tr style=\"text-align: right;\">\n",
       "      <th></th>\n",
       "      <th>location</th>\n",
       "      <th>bhk</th>\n",
       "      <th>total_sqft</th>\n",
       "      <th>bath</th>\n",
       "      <th>balcony</th>\n",
       "      <th>price</th>\n",
       "      <th>per_sq_feet_price</th>\n",
       "    </tr>\n",
       "  </thead>\n",
       "  <tbody>\n",
       "  </tbody>\n",
       "</table>\n",
       "</div>"
      ],
      "text/plain": [
       "Empty DataFrame\n",
       "Columns: [location, bhk, total_sqft, bath, balcony, price, per_sq_feet_price]\n",
       "Index: []"
      ]
     },
     "execution_count": 43,
     "metadata": {},
     "output_type": "execute_result"
    }
   ],
   "source": [
    "df5[df5.bath > 10]"
   ]
  },
  {
   "cell_type": "code",
   "execution_count": 44,
   "id": "3661f04b",
   "metadata": {},
   "outputs": [
    {
     "data": {
      "text/plain": [
       "Text(0, 0.5, 'Count')"
      ]
     },
     "execution_count": 44,
     "metadata": {},
     "output_type": "execute_result"
    },
    {
     "data": {
      "image/png": "[encoded data removed]",
      "text/plain": [
       "<Figure size 432x288 with 1 Axes>"
      ]
     },
     "metadata": {
      "needs_background": "light"
     },
     "output_type": "display_data"
    }
   ],
   "source": [
    "import matplotlib.pyplot as plt\n",
    "plt.hist(df5.bath,rwidth=0.8)\n",
    "plt.xlabel(\"Number of bathrooms\")\n",
    "plt.ylabel(\"Count\")"
   ]
  },
  {
   "cell_type": "code",
   "execution_count": 45,
   "id": "5eb13927",
   "metadata": {},
   "outputs": [],
   "source": [
    "df6 = df5[df5.bath < df5.bhk + 2]"
   ]
  },
  {
   "cell_type": "code",
   "execution_count": 46,
   "id": "a87c5c08",
   "metadata": {},
   "outputs": [
    {
     "data": {
      "text/plain": [
       "(7333, 7)"
      ]
     },
     "execution_count": 46,
     "metadata": {},
     "output_type": "execute_result"
    }
   ],
   "source": [
    "df6.shape"
   ]
  },
  {
   "cell_type": "code",
   "execution_count": 47,
   "id": "2c45d913",
   "metadata": {},
   "outputs": [],
   "source": [
    "df_final = df6.drop(['per_sq_feet_price'], axis = 1)"
   ]
  },
  {
   "cell_type": "code",
   "execution_count": 48,
   "id": "e4c57eb0",
   "metadata": {},
   "outputs": [
    {
     "data": {
      "text/html": [
       "<div>\n",
       "<style scoped>\n",
       "    .dataframe tbody tr th:only-of-type {\n",
       "        vertical-align: middle;\n",
       "    }\n",
       "\n",
       "    .dataframe tbody tr th {\n",
       "        vertical-align: top;\n",
       "    }\n",
       "\n",
       "    .dataframe thead th {\n",
       "        text-align: right;\n",
       "    }\n",
       "</style>\n",
       "<table border=\"1\" class=\"dataframe\">\n",
       "  <thead>\n",
       "    <tr style=\"text-align: right;\">\n",
       "      <th></th>\n",
       "      <th>location</th>\n",
       "      <th>bhk</th>\n",
       "      <th>total_sqft</th>\n",
       "      <th>bath</th>\n",
       "      <th>balcony</th>\n",
       "      <th>price</th>\n",
       "    </tr>\n",
       "  </thead>\n",
       "  <tbody>\n",
       "    <tr>\n",
       "      <th>0</th>\n",
       "      <td>1st Block Jayanagar</td>\n",
       "      <td>4</td>\n",
       "      <td>2850.0</td>\n",
       "      <td>4</td>\n",
       "      <td>1</td>\n",
       "      <td>428.0</td>\n",
       "    </tr>\n",
       "    <tr>\n",
       "      <th>1</th>\n",
       "      <td>1st Block Jayanagar</td>\n",
       "      <td>3</td>\n",
       "      <td>1630.0</td>\n",
       "      <td>3</td>\n",
       "      <td>2</td>\n",
       "      <td>194.0</td>\n",
       "    </tr>\n",
       "    <tr>\n",
       "      <th>2</th>\n",
       "      <td>1st Block Jayanagar</td>\n",
       "      <td>3</td>\n",
       "      <td>1875.0</td>\n",
       "      <td>2</td>\n",
       "      <td>3</td>\n",
       "      <td>235.0</td>\n",
       "    </tr>\n",
       "    <tr>\n",
       "      <th>3</th>\n",
       "      <td>1st Block Jayanagar</td>\n",
       "      <td>3</td>\n",
       "      <td>1200.0</td>\n",
       "      <td>2</td>\n",
       "      <td>0</td>\n",
       "      <td>130.0</td>\n",
       "    </tr>\n",
       "    <tr>\n",
       "      <th>4</th>\n",
       "      <td>1st Block Jayanagar</td>\n",
       "      <td>2</td>\n",
       "      <td>1235.0</td>\n",
       "      <td>2</td>\n",
       "      <td>2</td>\n",
       "      <td>148.0</td>\n",
       "    </tr>\n",
       "  </tbody>\n",
       "</table>\n",
       "</div>"
      ],
      "text/plain": [
       "              location  bhk  total_sqft  bath  balcony  price\n",
       "0  1st Block Jayanagar    4      2850.0     4        1  428.0\n",
       "1  1st Block Jayanagar    3      1630.0     3        2  194.0\n",
       "2  1st Block Jayanagar    3      1875.0     2        3  235.0\n",
       "3  1st Block Jayanagar    3      1200.0     2        0  130.0\n",
       "4  1st Block Jayanagar    2      1235.0     2        2  148.0"
      ]
     },
     "execution_count": 48,
     "metadata": {},
     "output_type": "execute_result"
    }
   ],
   "source": [
    "df_final.head()"
   ]
  },
  {
   "cell_type": "code",
   "execution_count": 49,
   "id": "4aa390c1",
   "metadata": {},
   "outputs": [],
   "source": [
    "## filling in location\n",
    "# filling with most common class\n",
    "#data_clean1=data.apply(lambda x:x.fillna(x.value_counts().index[0]))"
   ]
  },
  {
   "cell_type": "code",
   "execution_count": 50,
   "id": "19aa6335",
   "metadata": {},
   "outputs": [],
   "source": [
    "#data_clean1.isnull().sum()"
   ]
  },
  {
   "cell_type": "markdown",
   "id": "5c1247b0",
   "metadata": {},
   "source": [
    "## SAVING FINAL CLEANED DATA "
   ]
  },
  {
   "cell_type": "code",
   "execution_count": 51,
   "id": "1e2fe8b0",
   "metadata": {},
   "outputs": [],
   "source": [
    "df_final.to_csv('C://Users//TOFFICK//Documents//GitHub//Housing_data_analysis//final_cleaned_data.csv')\n"
   ]
  },
  {
   "cell_type": "markdown",
   "id": "9a14e7a2",
   "metadata": {},
   "source": [
    "### CHECKING FOR OUTLIERS AND REMOVING THEM"
   ]
  },
  {
   "cell_type": "code",
   "execution_count": 52,
   "id": "1e7e9b78",
   "metadata": {},
   "outputs": [],
   "source": [
    "import matplotlib.pyplot as plt\n",
    "import seaborn as sns\n",
    "%matplotlib inline"
   ]
  },
  {
   "cell_type": "code",
   "execution_count": 53,
   "id": "2eb0e6a2",
   "metadata": {
    "scrolled": true
   },
   "outputs": [
    {
     "data": {
      "text/plain": [
       "<AxesSubplot:>"
      ]
     },
     "execution_count": 53,
     "metadata": {},
     "output_type": "execute_result"
    },
    {
     "data": {
      "image/png": "[encoded data removed]",
      "text/plain": [
       "<Figure size 720x720 with 1 Axes>"
      ]
     },
     "metadata": {
      "needs_background": "light"
     },
     "output_type": "display_data"
    }
   ],
   "source": [
    "df_final.boxplot(figsize=(10,10))"
   ]
  },
  {
   "cell_type": "code",
   "execution_count": 54,
   "id": "46edbfbf",
   "metadata": {},
   "outputs": [
    {
     "name": "stderr",
     "output_type": "stream",
     "text": [
      "C:\\Users\\TOFFICK\\anaconda3\\lib\\site-packages\\seaborn\\distributions.py:2557: FutureWarning: `distplot` is a deprecated function and will be removed in a future version. Please adapt your code to use either `displot` (a figure-level function with similar flexibility) or `histplot` (an axes-level function for histograms).\n",
      "  warnings.warn(msg, FutureWarning)\n"
     ]
    },
    {
     "data": {
      "text/plain": [
       "<AxesSubplot:xlabel='total_sqft', ylabel='Density'>"
      ]
     },
     "execution_count": 54,
     "metadata": {},
     "output_type": "execute_result"
    },
    {
     "data": {
      "image/png": "[encoded data removed]",
      "text/plain": [
       "<Figure size 432x288 with 1 Axes>"
      ]
     },
     "metadata": {
      "needs_background": "light"
     },
     "output_type": "display_data"
    }
   ],
   "source": [
    "sns.distplot(df_final['total_sqft'])"
   ]
  },
  {
   "cell_type": "markdown",
   "id": "07b543e9",
   "metadata": {},
   "source": [
    "## THE TOTAL_SQT COLUMNS CLEARLY HAS OUTLIERS, THE DISPLOT AND SKEW CALCULATION SHOWS "
   ]
  },
  {
   "cell_type": "code",
   "execution_count": 55,
   "id": "1399019d",
   "metadata": {},
   "outputs": [
    {
     "data": {
      "text/plain": [
       "83.77684742062428"
      ]
     },
     "execution_count": 55,
     "metadata": {},
     "output_type": "execute_result"
    }
   ],
   "source": [
    "df_final.total_sqft.skew()"
   ]
  },
  {
   "cell_type": "markdown",
   "id": "7bfe05fc",
   "metadata": {},
   "source": [
    "## Removing the outliers by relying the skewness"
   ]
  },
  {
   "cell_type": "code",
   "execution_count": 56,
   "id": "9cfad5de",
   "metadata": {},
   "outputs": [
    {
     "name": "stdout",
     "output_type": "stream",
     "text": [
      "1.0131966014093814\n"
     ]
    }
   ],
   "source": [
    "df_final['total_sqft']=np.log(df_final['total_sqft'])\n",
    "print(df_final['total_sqft'].skew())"
   ]
  },
  {
   "cell_type": "code",
   "execution_count": 57,
   "id": "55bde684",
   "metadata": {},
   "outputs": [
    {
     "name": "stderr",
     "output_type": "stream",
     "text": [
      "C:\\Users\\TOFFICK\\anaconda3\\lib\\site-packages\\seaborn\\distributions.py:2557: FutureWarning: `distplot` is a deprecated function and will be removed in a future version. Please adapt your code to use either `displot` (a figure-level function with similar flexibility) or `histplot` (an axes-level function for histograms).\n",
      "  warnings.warn(msg, FutureWarning)\n"
     ]
    },
    {
     "data": {
      "text/plain": [
       "<AxesSubplot:xlabel='total_sqft', ylabel='Density'>"
      ]
     },
     "execution_count": 57,
     "metadata": {},
     "output_type": "execute_result"
    },
    {
     "data": {
      "image/png": "[encoded data removed]",
      "text/plain": [
       "<Figure size 432x288 with 1 Axes>"
      ]
     },
     "metadata": {
      "needs_background": "light"
     },
     "output_type": "display_data"
    }
   ],
   "source": [
    "sns.distplot(df_final['total_sqft'])"
   ]
  },
  {
   "cell_type": "markdown",
   "id": "6e6af4a3",
   "metadata": {},
   "source": [
    "## The skew has been realingned and hence outliers reduced to the bearest minimum after performing log transformation"
   ]
  },
  {
   "cell_type": "markdown",
   "id": "837119bb",
   "metadata": {},
   "source": [
    "### FEATURE ENGINEERING "
   ]
  },
  {
   "cell_type": "code",
   "execution_count": 58,
   "id": "ec8a83d8",
   "metadata": {},
   "outputs": [
    {
     "data": {
      "text/plain": [
       "0    1.988769\n",
       "1    2.465445\n",
       "2    2.512121\n",
       "3    2.363359\n",
       "4    3.559413\n",
       "Name: total_sqft_bhk, dtype: float64"
      ]
     },
     "execution_count": 58,
     "metadata": {},
     "output_type": "execute_result"
    }
   ],
   "source": [
    "df_final['total_sqft_bhk']=df_final['total_sqft']/df_final.bhk\n",
    "df_final['total_sqft_bhk'].head()"
   ]
  },
  {
   "cell_type": "code",
   "execution_count": 59,
   "id": "a7f09c1d",
   "metadata": {},
   "outputs": [
    {
     "data": {
      "text/plain": [
       "0    1.988769\n",
       "1    2.465445\n",
       "2    3.768182\n",
       "3    3.545038\n",
       "4    3.559413\n",
       "Name: total_sqft_bath, dtype: float64"
      ]
     },
     "execution_count": 59,
     "metadata": {},
     "output_type": "execute_result"
    }
   ],
   "source": [
    "df_final['total_sqft_bath']=df_final['total_sqft']/df_final.bath\n",
    "df_final['total_sqft_bath'].head()"
   ]
  },
  {
   "cell_type": "code",
   "execution_count": 60,
   "id": "3e82b9d1",
   "metadata": {},
   "outputs": [
    {
     "data": {
      "text/plain": [
       "0    53.802138\n",
       "1    26.229206\n",
       "2    31.182146\n",
       "3    18.335485\n",
       "4    20.789944\n",
       "Name: price_total_sqft, dtype: float64"
      ]
     },
     "execution_count": 60,
     "metadata": {},
     "output_type": "execute_result"
    }
   ],
   "source": [
    "df_final['price_total_sqft']=df_final['price']/df_final.total_sqft\n",
    "df_final['price_total_sqft'].head()"
   ]
  },
  {
   "cell_type": "code",
   "execution_count": 61,
   "id": "05844797",
   "metadata": {},
   "outputs": [
    {
     "data": {
      "text/plain": [
       "bhk                 1.680944\n",
       "total_sqft          1.013197\n",
       "bath                1.702179\n",
       "balcony             0.029180\n",
       "price               6.793043\n",
       "total_sqft_bhk      1.675483\n",
       "total_sqft_bath     1.496952\n",
       "price_total_sqft    5.286931\n",
       "dtype: float64"
      ]
     },
     "execution_count": 61,
     "metadata": {},
     "output_type": "execute_result"
    }
   ],
   "source": [
    "df_final.skew()"
   ]
  },
  {
   "cell_type": "markdown",
   "id": "10fbcdb6",
   "metadata": {},
   "source": [
    "#### Data Preprocessing"
   ]
  },
  {
   "cell_type": "code",
   "execution_count": 62,
   "id": "1bafac45",
   "metadata": {},
   "outputs": [],
   "source": [
    "X=df_final.drop(['location','price'],axis=1)\n",
    "Y=df_final.price"
   ]
  },
  {
   "cell_type": "code",
   "execution_count": 63,
   "id": "a50fb5dd",
   "metadata": {},
   "outputs": [],
   "source": [
    "from sklearn.preprocessing import LabelEncoder\n",
    "encode = LabelEncoder()\n",
    "Y = encode.fit_transform(Y)"
   ]
  },
  {
   "cell_type": "markdown",
   "id": "de6d522e",
   "metadata": {},
   "source": [
    "### feature standadization"
   ]
  },
  {
   "cell_type": "code",
   "execution_count": 64,
   "id": "928dc3dd",
   "metadata": {},
   "outputs": [],
   "source": [
    "from sklearn.preprocessing import MinMaxScaler"
   ]
  },
  {
   "cell_type": "code",
   "execution_count": 65,
   "id": "8463ffb3",
   "metadata": {},
   "outputs": [],
   "source": [
    "scaler=MinMaxScaler((-1,1))"
   ]
  },
  {
   "cell_type": "code",
   "execution_count": 66,
   "id": "2aa90b69",
   "metadata": {},
   "outputs": [],
   "source": [
    "features=scaler.fit_transform(X)"
   ]
  },
  {
   "cell_type": "code",
   "execution_count": 67,
   "id": "d790671e",
   "metadata": {},
   "outputs": [],
   "source": [
    "target=Y"
   ]
  },
  {
   "cell_type": "markdown",
   "id": "10f7cc14",
   "metadata": {},
   "source": [
    "# Feature Selection with Recursive Feature Elimination\n",
    "***From our EDA and analysis above we found out that some of the features are just duplicates(hence redundant).This step helps to select features that will make our analysis better and improve performance of the model.***"
   ]
  },
  {
   "cell_type": "code",
   "execution_count": 68,
   "id": "34caac82",
   "metadata": {},
   "outputs": [],
   "source": [
    "from sklearn.feature_selection import RFE\n",
    "##from sklearn.linear_model import LogisticRegression\n",
    "from sklearn.linear_model import LinearRegression"
   ]
  },
  {
   "cell_type": "code",
   "execution_count": 69,
   "id": "cbc03a9e",
   "metadata": {},
   "outputs": [
    {
     "name": "stderr",
     "output_type": "stream",
     "text": [
      "C:\\Users\\TOFFICK\\anaconda3\\lib\\site-packages\\sklearn\\utils\\validation.py:70: FutureWarning: Pass n_features_to_select=3 as keyword args. From version 1.0 (renaming of 0.25) passing these as positional arguments will result in an error\n",
      "  warnings.warn(f\"Pass {args_msg} as keyword args. From version \"\n"
     ]
    }
   ],
   "source": [
    "model = LinearRegression()\n",
    "rfe = RFE(model, 3)\n",
    "fitted = rfe.fit(features,target)"
   ]
  },
  {
   "cell_type": "code",
   "execution_count": 70,
   "id": "34a8e81c",
   "metadata": {},
   "outputs": [
    {
     "name": "stdout",
     "output_type": "stream",
     "text": [
      "Num Features: 3\n",
      "Selected Features: [False  True False False  True False  True]\n",
      "Feature Ranking: [4 1 3 5 1 2 1]\n"
     ]
    }
   ],
   "source": [
    "print(\"Num Features:\", fitted.n_features_)\n",
    "print(\"Selected Features:\", fitted.support_)\n",
    "print(\"Feature Ranking:\", fitted.ranking_)"
   ]
  },
  {
   "cell_type": "markdown",
   "id": "6feb7098",
   "metadata": {},
   "source": [
    "> Insights drawn:\n",
    "\n",
    "It shows us that features like ***total_sqft,total_sqft_bhk,price_total_sqft*** are redundant and hence must be dropped for analysis to take place."
   ]
  },
  {
   "cell_type": "markdown",
   "id": "f3b4a1ed",
   "metadata": {},
   "source": [
    "##  Model Building using Linear Regression "
   ]
  },
  {
   "cell_type": "code",
   "execution_count": 71,
   "id": "e7d5363e",
   "metadata": {},
   "outputs": [],
   "source": [
    "from sklearn.model_selection import train_test_split\n",
    "from sklearn.metrics import confusion_matrix,classification_report   \n",
    "from sklearn.metrics import accuracy_score\n",
    "from sklearn import svm"
   ]
  },
  {
   "cell_type": "code",
   "execution_count": 72,
   "id": "2363ce16",
   "metadata": {},
   "outputs": [
    {
     "data": {
      "text/html": [
       "<div>\n",
       "<style scoped>\n",
       "    .dataframe tbody tr th:only-of-type {\n",
       "        vertical-align: middle;\n",
       "    }\n",
       "\n",
       "    .dataframe tbody tr th {\n",
       "        vertical-align: top;\n",
       "    }\n",
       "\n",
       "    .dataframe thead th {\n",
       "        text-align: right;\n",
       "    }\n",
       "</style>\n",
       "<table border=\"1\" class=\"dataframe\">\n",
       "  <thead>\n",
       "    <tr style=\"text-align: right;\">\n",
       "      <th></th>\n",
       "      <th>location</th>\n",
       "      <th>bhk</th>\n",
       "      <th>total_sqft</th>\n",
       "      <th>bath</th>\n",
       "      <th>balcony</th>\n",
       "      <th>price</th>\n",
       "      <th>total_sqft_bhk</th>\n",
       "      <th>total_sqft_bath</th>\n",
       "      <th>price_total_sqft</th>\n",
       "    </tr>\n",
       "  </thead>\n",
       "  <tbody>\n",
       "    <tr>\n",
       "      <th>0</th>\n",
       "      <td>1st Block Jayanagar</td>\n",
       "      <td>4</td>\n",
       "      <td>7.955074</td>\n",
       "      <td>4</td>\n",
       "      <td>1</td>\n",
       "      <td>428.0</td>\n",
       "      <td>1.988769</td>\n",
       "      <td>1.988769</td>\n",
       "      <td>53.802138</td>\n",
       "    </tr>\n",
       "    <tr>\n",
       "      <th>1</th>\n",
       "      <td>1st Block Jayanagar</td>\n",
       "      <td>3</td>\n",
       "      <td>7.396335</td>\n",
       "      <td>3</td>\n",
       "      <td>2</td>\n",
       "      <td>194.0</td>\n",
       "      <td>2.465445</td>\n",
       "      <td>2.465445</td>\n",
       "      <td>26.229206</td>\n",
       "    </tr>\n",
       "    <tr>\n",
       "      <th>2</th>\n",
       "      <td>1st Block Jayanagar</td>\n",
       "      <td>3</td>\n",
       "      <td>7.536364</td>\n",
       "      <td>2</td>\n",
       "      <td>3</td>\n",
       "      <td>235.0</td>\n",
       "      <td>2.512121</td>\n",
       "      <td>3.768182</td>\n",
       "      <td>31.182146</td>\n",
       "    </tr>\n",
       "    <tr>\n",
       "      <th>3</th>\n",
       "      <td>1st Block Jayanagar</td>\n",
       "      <td>3</td>\n",
       "      <td>7.090077</td>\n",
       "      <td>2</td>\n",
       "      <td>0</td>\n",
       "      <td>130.0</td>\n",
       "      <td>2.363359</td>\n",
       "      <td>3.545038</td>\n",
       "      <td>18.335485</td>\n",
       "    </tr>\n",
       "    <tr>\n",
       "      <th>4</th>\n",
       "      <td>1st Block Jayanagar</td>\n",
       "      <td>2</td>\n",
       "      <td>7.118826</td>\n",
       "      <td>2</td>\n",
       "      <td>2</td>\n",
       "      <td>148.0</td>\n",
       "      <td>3.559413</td>\n",
       "      <td>3.559413</td>\n",
       "      <td>20.789944</td>\n",
       "    </tr>\n",
       "  </tbody>\n",
       "</table>\n",
       "</div>"
      ],
      "text/plain": [
       "              location  bhk  total_sqft  bath  balcony  price  total_sqft_bhk  \\\n",
       "0  1st Block Jayanagar    4    7.955074     4        1  428.0        1.988769   \n",
       "1  1st Block Jayanagar    3    7.396335     3        2  194.0        2.465445   \n",
       "2  1st Block Jayanagar    3    7.536364     2        3  235.0        2.512121   \n",
       "3  1st Block Jayanagar    3    7.090077     2        0  130.0        2.363359   \n",
       "4  1st Block Jayanagar    2    7.118826     2        2  148.0        3.559413   \n",
       "\n",
       "   total_sqft_bath  price_total_sqft  \n",
       "0         1.988769         53.802138  \n",
       "1         2.465445         26.229206  \n",
       "2         3.768182         31.182146  \n",
       "3         3.545038         18.335485  \n",
       "4         3.559413         20.789944  "
      ]
     },
     "execution_count": 72,
     "metadata": {},
     "output_type": "execute_result"
    }
   ],
   "source": [
    "df_final.head()"
   ]
  },
  {
   "cell_type": "code",
   "execution_count": 73,
   "id": "ee59e010",
   "metadata": {},
   "outputs": [],
   "source": [
    "features=df_final.drop(['price','bhk','bath','balcony','location','total_sqft_bath'],axis=1)\n",
    "target=df_final.price"
   ]
  },
  {
   "cell_type": "code",
   "execution_count": 74,
   "id": "02113c2f",
   "metadata": {},
   "outputs": [
    {
     "data": {
      "text/html": [
       "<div>\n",
       "<style scoped>\n",
       "    .dataframe tbody tr th:only-of-type {\n",
       "        vertical-align: middle;\n",
       "    }\n",
       "\n",
       "    .dataframe tbody tr th {\n",
       "        vertical-align: top;\n",
       "    }\n",
       "\n",
       "    .dataframe thead th {\n",
       "        text-align: right;\n",
       "    }\n",
       "</style>\n",
       "<table border=\"1\" class=\"dataframe\">\n",
       "  <thead>\n",
       "    <tr style=\"text-align: right;\">\n",
       "      <th></th>\n",
       "      <th>total_sqft</th>\n",
       "      <th>total_sqft_bhk</th>\n",
       "      <th>price_total_sqft</th>\n",
       "    </tr>\n",
       "  </thead>\n",
       "  <tbody>\n",
       "    <tr>\n",
       "      <th>0</th>\n",
       "      <td>7.955074</td>\n",
       "      <td>1.988769</td>\n",
       "      <td>53.802138</td>\n",
       "    </tr>\n",
       "    <tr>\n",
       "      <th>1</th>\n",
       "      <td>7.396335</td>\n",
       "      <td>2.465445</td>\n",
       "      <td>26.229206</td>\n",
       "    </tr>\n",
       "    <tr>\n",
       "      <th>2</th>\n",
       "      <td>7.536364</td>\n",
       "      <td>2.512121</td>\n",
       "      <td>31.182146</td>\n",
       "    </tr>\n",
       "    <tr>\n",
       "      <th>3</th>\n",
       "      <td>7.090077</td>\n",
       "      <td>2.363359</td>\n",
       "      <td>18.335485</td>\n",
       "    </tr>\n",
       "    <tr>\n",
       "      <th>4</th>\n",
       "      <td>7.118826</td>\n",
       "      <td>3.559413</td>\n",
       "      <td>20.789944</td>\n",
       "    </tr>\n",
       "  </tbody>\n",
       "</table>\n",
       "</div>"
      ],
      "text/plain": [
       "   total_sqft  total_sqft_bhk  price_total_sqft\n",
       "0    7.955074        1.988769         53.802138\n",
       "1    7.396335        2.465445         26.229206\n",
       "2    7.536364        2.512121         31.182146\n",
       "3    7.090077        2.363359         18.335485\n",
       "4    7.118826        3.559413         20.789944"
      ]
     },
     "execution_count": 74,
     "metadata": {},
     "output_type": "execute_result"
    }
   ],
   "source": [
    "features.head()"
   ]
  },
  {
   "cell_type": "code",
   "execution_count": 75,
   "id": "3d208186",
   "metadata": {},
   "outputs": [],
   "source": [
    "features_train,features_test,target_train,target_test=train_test_split(features,target,test_size=0.3,random_state=101)"
   ]
  },
  {
   "cell_type": "markdown",
   "id": "5a3c974f",
   "metadata": {},
   "source": [
    "***70% of the dataset is being used for training the model. This will help to get a more sophisticated model.\n",
    "30% of the dataset will be used for testing and that helps us evaluate the performance of the model.***"
   ]
  },
  {
   "cell_type": "code",
   "execution_count": 76,
   "id": "c971b426",
   "metadata": {},
   "outputs": [],
   "source": [
    "##model=svm.SVC(gamma=0.004,C=100)\n",
    "##fittedModel=model.fit(features_train,target_train)\n",
    "##predictions=fittedModel.predict(features_test)"
   ]
  },
  {
   "cell_type": "code",
   "execution_count": 77,
   "id": "aa688f0a",
   "metadata": {},
   "outputs": [
    {
     "data": {
      "text/plain": [
       "0.9943300999575392"
      ]
     },
     "execution_count": 77,
     "metadata": {},
     "output_type": "execute_result"
    }
   ],
   "source": [
    "model = LinearRegression()\n",
    "fitted_mode=model.fit(features_train, target_train)\n",
    "model.score(features_test, target_test)"
   ]
  },
  {
   "cell_type": "code",
   "execution_count": 78,
   "id": "4a72dd4e",
   "metadata": {},
   "outputs": [],
   "source": [
    "conf_m=model.predict(features_test)"
   ]
  },
  {
   "cell_type": "code",
   "execution_count": 79,
   "id": "5505683e",
   "metadata": {},
   "outputs": [
    {
     "data": {
      "text/plain": [
       "array([20.91300614, 59.1824498 , 34.19717144, ..., 48.41741971,\n",
       "       32.9761622 , 32.90440716])"
      ]
     },
     "execution_count": 79,
     "metadata": {},
     "output_type": "execute_result"
    }
   ],
   "source": [
    "conf_m"
   ]
  },
  {
   "cell_type": "markdown",
   "id": "7cb8b220",
   "metadata": {},
   "source": [
    "# plotting confusion matrix"
   ]
  },
  {
   "cell_type": "code",
   "execution_count": 84,
   "id": "a8a62bb2",
   "metadata": {},
   "outputs": [],
   "source": [
    "#cm = confusion_matrix(features_test, conf_m)\n",
    "import pickle"
   ]
  },
  {
   "cell_type": "markdown",
   "id": "bf5868a2",
   "metadata": {},
   "source": [
    "## how to save model to pickle "
   ]
  },
  {
   "cell_type": "code",
   "execution_count": 85,
   "id": "8e660883",
   "metadata": {},
   "outputs": [],
   "source": [
    "pickle.dump(fitted_mode, open('C://Users//TOFFICK//Documents//GitHub//Housing_data_analysis//model.pkl', 'wb'))"
   ]
  },
  {
   "cell_type": "code",
   "execution_count": null,
   "id": "1ade6cf7",
   "metadata": {},
   "outputs": [],
   "source": [
    "conf_m=confusion_matrix(target_test,predictions)\n",
    "conf_m"
   ]
  }
 ],
 "metadata": {
  "kernelspec": {
   "display_name": "Python 3",
   "language": "python",
   "name": "python3"
  },
  "language_info": {
   "codemirror_mode": {
    "name": "ipython",
    "version": 3
   },
   "file_extension": ".py",
   "mimetype": "text/x-python",
   "name": "python",
   "nbconvert_exporter": "python",
   "pygments_lexer": "ipython3",
   "version": "3.8.8"
  }
 },
 "nbformat": 4,
 "nbformat_minor": 5
}
